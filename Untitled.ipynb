{
 "cells": [
  {
   "cell_type": "code",
   "execution_count": 4,
   "id": "239e51b4-1dbe-4277-9e98-b1c1f6cb392f",
   "metadata": {},
   "outputs": [],
   "source": [
    "import sys\n",
    "sys.path.append('/home/csreid/.pyenv/versions/3.10.12/lib/python3.10/site-packages')\n",
    "\n",
    "import torch\n",
    "import numpy as np\n",
    "import pandas as pd\n",
    "\n",
    "from torch.utils.data import Dataset, DataLoader"
   ]
  },
  {
   "cell_type": "code",
   "execution_count": 5,
   "id": "1429a302-cdb8-491c-a441-ed1abfa86700",
   "metadata": {},
   "outputs": [],
   "source": [
    "class SDDataset(Dataset):\n",
    "    def __init__(self, data_dir):\n",
    "        self._data_dir = data_dir\n",
    "        self._df = pd.read_csv(f'{self._data_dir}/data.csv')\n",
    "\n",
    "    def __len__(self):\n",
    "        return len(self._df)"
   ]
  },
  {
   "cell_type": "code",
   "execution_count": 6,
   "id": "5c3a19b4-3a55-442d-bb0e-ebeac3b77c2a",
   "metadata": {},
   "outputs": [],
   "source": [
    "foo = SDDataset('data/run_2023_08_24_11_42_07')"
   ]
  }
 ],
 "metadata": {
  "kernelspec": {
   "display_name": "Python 3 (ipykernel)",
   "language": "python",
   "name": "python3"
  },
  "language_info": {
   "codemirror_mode": {
    "name": "ipython",
    "version": 3
   },
   "file_extension": ".py",
   "mimetype": "text/x-python",
   "name": "python",
   "nbconvert_exporter": "python",
   "pygments_lexer": "ipython3",
   "version": "3.10.12"
  }
 },
 "nbformat": 4,
 "nbformat_minor": 5
}
